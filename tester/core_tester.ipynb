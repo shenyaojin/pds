{
 "cells": [
  {
   "metadata": {
    "ExecuteTime": {
     "end_time": "2025-01-19T01:49:17.393860Z",
     "start_time": "2025-01-19T01:49:17.375951Z"
    }
   },
   "cell_type": "code",
   "source": [
    "import matplotlib.pyplot as plt\n",
    "%load_ext autoreload\n",
    "%autoreload 2"
   ],
   "id": "ad949d24a86b6c29",
   "outputs": [],
   "execution_count": 35
  },
  {
   "cell_type": "code",
   "id": "initial_id",
   "metadata": {
    "collapsed": true,
    "ExecuteTime": {
     "end_time": "2025-01-19T01:48:40.560814Z",
     "start_time": "2025-01-19T01:48:40.558869Z"
    }
   },
   "source": [
    "from core import pds as pds\n",
    "import numpy as np\n",
    "from datetime import timedelta"
   ],
   "outputs": [],
   "execution_count": 21
  },
  {
   "metadata": {
    "ExecuteTime": {
     "end_time": "2025-01-19T01:48:40.569173Z",
     "start_time": "2025-01-19T01:48:40.567381Z"
    }
   },
   "cell_type": "code",
   "source": [
    "# pds frame definition\n",
    "psd1d_frame = pds.PDS1D_SingleSource()"
   ],
   "id": "4ae96f22399d04ee",
   "outputs": [],
   "execution_count": 22
  },
  {
   "metadata": {
    "ExecuteTime": {
     "end_time": "2025-01-19T01:48:40.577790Z",
     "start_time": "2025-01-19T01:48:40.575958Z"
    }
   },
   "cell_type": "code",
   "source": [
    "# setup mesh\n",
    "nx = 100\n",
    "dx = 1\n",
    "x = np.arange(0, nx * dx, dx)\n",
    "\n",
    "d = 100\n",
    "u_init = np.zeros(nx)\n",
    "t0 = 0\n",
    "lbc = 'Neumann'\n",
    "rbc = 'Neumann'"
   ],
   "id": "43af8367b4d200b1",
   "outputs": [],
   "execution_count": 23
  },
  {
   "metadata": {
    "ExecuteTime": {
     "end_time": "2025-01-19T01:48:41.452104Z",
     "start_time": "2025-01-19T01:48:40.583194Z"
    }
   },
   "cell_type": "code",
   "source": [
    "# Load test data\n",
    "from DSS_analyzer_Mariner import Data1D_GAUGE\n",
    "test_gauge_dataframe = Data1D_GAUGE.Data1D_GAUGE('testdata/pressure_gauge_data.npz')\n",
    "\n",
    "from DSS_analyzer_Mariner import Data1D_PumpingCurve\n",
    "stage4_pumping_curve_dataframe = Data1D_PumpingCurve.Data1D_PumpingCurve('testdata/pumping_curve_stage4.npz')\n",
    "stage5_pumping_curve_dataframe = Data1D_PumpingCurve.Data1D_PumpingCurve('testdata/pumping_curve_stage5.npz')"
   ],
   "id": "df68bca54170787f",
   "outputs": [],
   "execution_count": 24
  },
  {
   "metadata": {
    "ExecuteTime": {
     "end_time": "2025-01-19T01:48:41.457720Z",
     "start_time": "2025-01-19T01:48:41.456041Z"
    }
   },
   "cell_type": "code",
   "source": [
    "# Crop the gauge data into three parts\n",
    "start_time_stg4 = stage4_pumping_curve_dataframe.get_start_time()\n",
    "end_time_stg4 = stage4_pumping_curve_dataframe.get_end_time()\n",
    "\n",
    "start_time_stg5 = stage5_pumping_curve_dataframe.get_start_time()\n",
    "end_time_stg5 = stage5_pumping_curve_dataframe.get_end_time()"
   ],
   "id": "e89cb3c7c775a75a",
   "outputs": [],
   "execution_count": 25
  },
  {
   "metadata": {
    "ExecuteTime": {
     "end_time": "2025-01-19T01:48:43.307689Z",
     "start_time": "2025-01-19T01:48:41.461861Z"
    }
   },
   "cell_type": "code",
   "source": [
    "stg4_pg_dataframe = test_gauge_dataframe.copy()\n",
    "stg4_pg_dataframe.crop(start_time_stg4, end_time_stg4)"
   ],
   "id": "ca7840fbefe91b6a",
   "outputs": [],
   "execution_count": 26
  },
  {
   "metadata": {
    "ExecuteTime": {
     "end_time": "2025-01-19T01:48:45.309899Z",
     "start_time": "2025-01-19T01:48:43.311595Z"
    }
   },
   "cell_type": "code",
   "source": [
    "interval_pg_dataframe = test_gauge_dataframe.copy()\n",
    "interval_pg_dataframe.crop(end_time_stg4, start_time_stg5)"
   ],
   "id": "b006ba24d9e6a7a0",
   "outputs": [],
   "execution_count": 27
  },
  {
   "metadata": {
    "ExecuteTime": {
     "end_time": "2025-01-19T01:48:47.172955Z",
     "start_time": "2025-01-19T01:48:45.313975Z"
    }
   },
   "cell_type": "code",
   "source": [
    "stg5_pg_dataframe = test_gauge_dataframe.copy()\n",
    "stg5_pg_dataframe.crop(start_time_stg5, end_time_stg5)"
   ],
   "id": "3dfa7cc96b4269a8",
   "outputs": [],
   "execution_count": 28
  },
  {
   "metadata": {
    "ExecuteTime": {
     "end_time": "2025-01-19T01:48:47.179360Z",
     "start_time": "2025-01-19T01:48:47.177429Z"
    }
   },
   "cell_type": "code",
   "source": [
    "# pass the parameters\n",
    "psd1d_frame.set_mesh(x)\n",
    "psd1d_frame.set_diffusivity(d)\n",
    "psd1d_frame.set_initial(u_init)\n",
    "psd1d_frame.set_bcs(lbc, rbc)\n",
    "psd1d_frame.set_t0(t0)\n",
    "psd1d_frame.set_sourceidx(int(len(x)/2)) # set the source index at the middle of the mesh"
   ],
   "id": "56ac9a136783ea98",
   "outputs": [
    {
     "name": "stdout",
     "output_type": "stream",
     "text": [
      "Diffusivity is a single scalar value, broadcasted to the mesh length.\n"
     ]
    }
   ],
   "execution_count": 29
  },
  {
   "metadata": {
    "ExecuteTime": {
     "end_time": "2025-01-19T01:58:25.139921Z",
     "start_time": "2025-01-19T01:58:25.094735Z"
    }
   },
   "cell_type": "code",
   "source": [
    "# For the test purpose, crop the gauge data\n",
    "test_gauge_dataframe = stg4_pg_dataframe.copy()\n",
    "# decide the time range\n",
    "test_start_time = start_time_stg4 + timedelta(seconds=200)\n",
    "test_end_time = test_start_time + timedelta(seconds=200)\n",
    "test_gauge_dataframe.crop(test_start_time, test_end_time)\n",
    "# Pre process the PG data\n",
    "test_gauge_dataframe.data -= np.min(test_gauge_dataframe.data)"
   ],
   "id": "80b35c26c4af30f0",
   "outputs": [],
   "execution_count": 56
  },
  {
   "metadata": {
    "ExecuteTime": {
     "end_time": "2025-01-19T01:58:25.784190Z",
     "start_time": "2025-01-19T01:58:25.773639Z"
    }
   },
   "cell_type": "code",
   "source": [
    "# pass the gauge data\n",
    "psd1d_frame.set_source(test_gauge_dataframe)"
   ],
   "id": "9b85f21d858baa45",
   "outputs": [
    {
     "name": "stdout",
     "output_type": "stream",
     "text": [
      "Message from pds: Source set done.\n",
      "Also, just a reminder: please make sure the data is cropped properly.\n"
     ]
    }
   ],
   "execution_count": 57
  },
  {
   "metadata": {
    "ExecuteTime": {
     "end_time": "2025-01-19T02:00:56.123275Z",
     "start_time": "2025-01-19T02:00:55.914687Z"
    }
   },
   "cell_type": "code",
   "source": [
    "# Test snapshot\n",
    "psd1d_frame.solve(optimizer= False, dt = 2, t_total= 200, print_progress=False)"
   ],
   "id": "f872ae84df589501",
   "outputs": [
    {
     "name": "stdout",
     "output_type": "stream",
     "text": [
      "Time array generated using t_total.\n"
     ]
    }
   ],
   "execution_count": 63
  },
  {
   "metadata": {
    "ExecuteTime": {
     "end_time": "2025-01-19T01:58:27.093872Z",
     "start_time": "2025-01-19T01:58:27.019491Z"
    }
   },
   "cell_type": "code",
   "source": "psd1d_frame.plot_solution()",
   "id": "cdd3ec43ebaddc24",
   "outputs": [
    {
     "data": {
      "text/plain": [
       "<Figure size 640x480 with 1 Axes>"
      ],
      "image/png": "[encoded data removed]"
     },
     "metadata": {},
     "output_type": "display_data"
    }
   ],
   "execution_count": 59
  },
  {
   "metadata": {
    "ExecuteTime": {
     "end_time": "2025-01-19T01:58:32.625993Z",
     "start_time": "2025-01-19T01:58:32.605169Z"
    }
   },
   "cell_type": "code",
   "source": "import matplotlib.pyplot as plt",
   "id": "2487d6eb4db8c4d7",
   "outputs": [],
   "execution_count": 60
  },
  {
   "metadata": {
    "ExecuteTime": {
     "end_time": "2025-01-19T01:58:33.121344Z",
     "start_time": "2025-01-19T01:58:33.062180Z"
    }
   },
   "cell_type": "code",
   "source": [
    "plt.figure()\n",
    "plt.plot(psd1d_frame.taxis[1:], psd1d_frame.get_val_at_idx(20)[1:])\n",
    "plt.xlabel(\"time\")\n",
    "plt.ylabel(\"Pressure\")\n",
    "plt.title(\"Pressure vs time\")\n",
    "plt.show()"
   ],
   "id": "d79bc38c9e25c5c9",
   "outputs": [
    {
     "data": {
      "text/plain": [
       "<Figure size 640x480 with 1 Axes>"
      ],
      "image/png": "[encoded data removed]"
     },
     "metadata": {},
     "output_type": "display_data"
    }
   ],
   "execution_count": 61
  },
  {
   "metadata": {
    "ExecuteTime": {
     "end_time": "2025-01-19T01:58:34.594054Z",
     "start_time": "2025-01-19T01:58:34.575592Z"
    }
   },
   "cell_type": "code",
   "source": "np.unique(psd1d_frame.get_val_at_idx(40))",
   "id": "79a1cff4fa2fcea9",
   "outputs": [
    {
     "data": {
      "text/plain": [
       "array([0.00000000e+00, 2.51110292e-04, 7.38703092e-04, 1.00249111e-03,\n",
       "       2.43120504e-03, 2.91807922e-03, 5.96838183e-03, 6.98999407e-03,\n",
       "       9.87782471e-03, 1.03615125e-02, 1.47689578e-02, 1.49093448e-02,\n",
       "       1.93227772e-02, 2.29236881e-02, 2.91536469e-02, 3.01592051e-02,\n",
       "       3.46045505e-02, 4.23339131e-02, 4.65383264e-02, 5.45797238e-02,\n",
       "       5.82969284e-02, 6.32741907e-02, 7.20650871e-02, 7.69207726e-02,\n",
       "       8.61484504e-02, 9.20606129e-02, 9.65818746e-02, 1.10010472e-01,\n",
       "       1.14753124e-01, 1.21709142e-01, 1.32217098e-01, 1.34934652e-01,\n",
       "       1.45795420e-01, 1.59867395e-01, 1.68368843e-01, 1.73904821e-01,\n",
       "       1.89244355e-01, 1.99477945e-01, 2.11060492e-01, 2.21760237e-01,\n",
       "       2.28076681e-01, 2.37700141e-01, 2.53481464e-01, 2.63537365e-01,\n",
       "       2.70237452e-01, 2.90697786e-01, 3.06321859e-01, 3.10345730e-01,\n",
       "       3.23798474e-01, 3.44838081e-01, 3.65240163e-01, 3.65253044e-01,\n",
       "       3.83435444e-01, 3.83785450e-01, 4.01898932e-01, 4.22618542e-01,\n",
       "       4.46220705e-01, 4.54413473e-01, 4.68639413e-01, 4.74688781e-01,\n",
       "       5.02859546e-01, 5.06232405e-01, 5.26688124e-01, 5.37526274e-01,\n",
       "       5.58306049e-01, 5.58704291e-01, 5.93041448e-01, 6.06987657e-01,\n",
       "       6.12445882e-01, 6.32570700e-01, 6.57774392e-01, 6.59153376e-01,\n",
       "       6.81043782e-01, 6.98078552e-01, 7.12817467e-01, 7.36835472e-01,\n",
       "       7.46391787e-01, 7.76851083e-01, 7.79972719e-01, 8.12530859e-01,\n",
       "       8.21595244e-01, 8.48760913e-01, 8.89412622e-01, 9.31756531e-01,\n",
       "       9.63035854e-01, 1.00750440e+00, 1.05150599e+00, 1.09781960e+00,\n",
       "       1.14530972e+00, 1.17550885e+00, 1.22326316e+00, 1.26909483e+00,\n",
       "       1.30347313e+00, 1.35270099e+00, 1.40248590e+00, 1.43589659e+00,\n",
       "       1.50658376e+00, 1.53944041e+00, 1.59226538e+00, 1.64505322e+00,\n",
       "       1.68003058e+00])"
      ]
     },
     "execution_count": 62,
     "metadata": {},
     "output_type": "execute_result"
    }
   ],
   "execution_count": 62
  },
  {
   "metadata": {},
   "cell_type": "code",
   "outputs": [],
   "execution_count": null,
   "source": "",
   "id": "bf5d94fa2106d16d"
  }
 ],
 "metadata": {
  "kernelspec": {
   "display_name": "Python 3",
   "language": "python",
   "name": "python3"
  },
  "language_info": {
   "codemirror_mode": {
    "name": "ipython",
    "version": 2
   },
   "file_extension": ".py",
   "mimetype": "text/x-python",
   "name": "python",
   "nbconvert_exporter": "python",
   "pygments_lexer": "ipython2",
   "version": "2.7.6"
  }
 },
 "nbformat": 4,
 "nbformat_minor": 5
}
