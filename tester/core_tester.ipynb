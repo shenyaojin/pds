{
 "cells": [
  {
   "cell_type": "code",
   "id": "initial_id",
   "metadata": {
    "collapsed": true,
    "ExecuteTime": {
     "end_time": "2025-01-18T02:53:13.636309Z",
     "start_time": "2025-01-18T02:53:12.908706Z"
    }
   },
   "source": [
    "from core import pds as pds\n",
    "import numpy as np\n",
    "import pandas as pd"
   ],
   "outputs": [],
   "execution_count": 3
  },
  {
   "metadata": {
    "ExecuteTime": {
     "end_time": "2025-01-18T02:53:14.104652Z",
     "start_time": "2025-01-18T02:53:14.102425Z"
    }
   },
   "cell_type": "code",
   "source": [
    "# pds frame definition\n",
    "psd1d_frame = pds.PDS1D_SingleSource()"
   ],
   "id": "4ae96f22399d04ee",
   "outputs": [],
   "execution_count": 4
  },
  {
   "metadata": {
    "ExecuteTime": {
     "end_time": "2025-01-18T02:53:14.631568Z",
     "start_time": "2025-01-18T02:53:14.628931Z"
    }
   },
   "cell_type": "code",
   "source": [
    "# setup mesh\n",
    "nx = 100\n",
    "dx = 1\n",
    "x = np.arange(0, nx * dx, dx)\n",
    "\n",
    "d = 100\n",
    "u_init = np.zeros(nx)\n",
    "t0 = 0\n",
    "lbc = 'Neumann'\n",
    "rbc = 'Neumann'"
   ],
   "id": "43af8367b4d200b1",
   "outputs": [],
   "execution_count": 5
  },
  {
   "metadata": {
    "ExecuteTime": {
     "end_time": "2025-01-18T02:53:15.178971Z",
     "start_time": "2025-01-18T02:53:15.176104Z"
    }
   },
   "cell_type": "code",
   "source": [
    "# pass the parameters\n",
    "psd1d_frame.set_mesh(x)\n",
    "psd1d_frame.set_diffusivity(d)\n",
    "psd1d_frame.set_initial(u_init)\n",
    "psd1d_frame.set_bcs(lbc, rbc)\n",
    "psd1d_frame.set_t0(t0)"
   ],
   "id": "56ac9a136783ea98",
   "outputs": [],
   "execution_count": 6
  },
  {
   "metadata": {
    "ExecuteTime": {
     "end_time": "2025-01-18T02:53:15.640389Z",
     "start_time": "2025-01-18T02:53:15.636026Z"
    }
   },
   "cell_type": "code",
   "source": [
    "# Test snapshot\n",
    "psd1d_frame.solve(dt = 2, t_total= 200)\n",
    "psd1d_frame.snapshot[:5,:5]"
   ],
   "id": "f872ae84df589501",
   "outputs": [
    {
     "name": "stdout",
     "output_type": "stream",
     "text": [
      "Time array generated using t_total.\n"
     ]
    },
    {
     "data": {
      "text/plain": [
       "array([[0., 0., 0., 0., 0.],\n",
       "       [0., 0., 0., 0., 0.],\n",
       "       [0., 0., 0., 0., 0.],\n",
       "       [0., 0., 0., 0., 0.],\n",
       "       [0., 0., 0., 0., 0.]])"
      ]
     },
     "execution_count": 7,
     "metadata": {},
     "output_type": "execute_result"
    }
   ],
   "execution_count": 7
  },
  {
   "metadata": {},
   "cell_type": "code",
   "outputs": [],
   "execution_count": null,
   "source": "",
   "id": "4a242c6874ec4466"
  }
 ],
 "metadata": {
  "kernelspec": {
   "display_name": "Python 3",
   "language": "python",
   "name": "python3"
  },
  "language_info": {
   "codemirror_mode": {
    "name": "ipython",
    "version": 2
   },
   "file_extension": ".py",
   "mimetype": "text/x-python",
   "name": "python",
   "nbconvert_exporter": "python",
   "pygments_lexer": "ipython2",
   "version": "2.7.6"
  }
 },
 "nbformat": 4,
 "nbformat_minor": 5
}
