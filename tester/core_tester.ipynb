{
 "cells": [
  {
   "metadata": {
    "ExecuteTime": {
     "end_time": "2025-01-18T04:50:07.583599Z",
     "start_time": "2025-01-18T04:50:07.575624Z"
    }
   },
   "cell_type": "code",
   "source": [
    "%load_ext autoreload\n",
    "%autoreload 2"
   ],
   "id": "ad949d24a86b6c29",
   "outputs": [],
   "execution_count": 1
  },
  {
   "cell_type": "code",
   "id": "initial_id",
   "metadata": {
    "collapsed": true,
    "ExecuteTime": {
     "end_time": "2025-01-18T04:50:10.020023Z",
     "start_time": "2025-01-18T04:50:09.249325Z"
    }
   },
   "source": [
    "from core import pds as pds\n",
    "import numpy as np"
   ],
   "outputs": [],
   "execution_count": 2
  },
  {
   "metadata": {
    "ExecuteTime": {
     "end_time": "2025-01-18T04:50:10.031103Z",
     "start_time": "2025-01-18T04:50:10.022445Z"
    }
   },
   "cell_type": "code",
   "source": [
    "# pds frame definition\n",
    "psd1d_frame = pds.PDS1D_SingleSource()"
   ],
   "id": "4ae96f22399d04ee",
   "outputs": [],
   "execution_count": 3
  },
  {
   "metadata": {
    "ExecuteTime": {
     "end_time": "2025-01-18T04:50:10.200879Z",
     "start_time": "2025-01-18T04:50:10.193265Z"
    }
   },
   "cell_type": "code",
   "source": [
    "# setup mesh\n",
    "nx = 100\n",
    "dx = 1\n",
    "x = np.arange(0, nx * dx, dx)\n",
    "\n",
    "d = 100\n",
    "u_init = np.zeros(nx)\n",
    "t0 = 0\n",
    "lbc = 'Neumann'\n",
    "rbc = 'Neumann'"
   ],
   "id": "43af8367b4d200b1",
   "outputs": [],
   "execution_count": 4
  },
  {
   "metadata": {
    "ExecuteTime": {
     "end_time": "2025-01-18T04:50:10.589658Z",
     "start_time": "2025-01-18T04:50:10.574988Z"
    }
   },
   "cell_type": "code",
   "source": [
    "# pass the parameters\n",
    "psd1d_frame.set_mesh(x)\n",
    "psd1d_frame.set_diffusivity(d)\n",
    "psd1d_frame.set_initial(u_init)\n",
    "psd1d_frame.set_bcs(lbc, rbc)\n",
    "psd1d_frame.set_t0(t0)"
   ],
   "id": "56ac9a136783ea98",
   "outputs": [],
   "execution_count": 5
  },
  {
   "metadata": {
    "ExecuteTime": {
     "end_time": "2025-01-18T04:52:08.378136Z",
     "start_time": "2025-01-18T04:52:08.325654Z"
    }
   },
   "cell_type": "code",
   "source": [
    "# Test snapshot\n",
    "psd1d_frame.solve(optimizer= False, dt = 2, t_total= 200)\n",
    "psd1d_frame.snapshot[:5,:5]\n",
    "# Seems the snapshot is initialized correctly."
   ],
   "id": "f872ae84df589501",
   "outputs": [
    {
     "name": "stdout",
     "output_type": "stream",
     "text": [
      "Time array generated using t_total.\n"
     ]
    },
    {
     "data": {
      "text/plain": [
       "array([[0., 0., 0., 0., 0.],\n",
       "       [0., 0., 0., 0., 0.],\n",
       "       [0., 0., 0., 0., 0.],\n",
       "       [0., 0., 0., 0., 0.],\n",
       "       [0., 0., 0., 0., 0.]])"
      ]
     },
     "execution_count": 10,
     "metadata": {},
     "output_type": "execute_result"
    }
   ],
   "execution_count": 10
  },
  {
   "metadata": {
    "ExecuteTime": {
     "end_time": "2025-01-18T04:52:13.067565Z",
     "start_time": "2025-01-18T04:52:12.217893Z"
    }
   },
   "cell_type": "code",
   "source": [
    "# Load test data\n",
    "from DSS_analyzer_Mariner import Data1D_GAUGE\n",
    "test_gauge_dataframe = Data1D_GAUGE.Data1D_GAUGE('testdata/pressure_gauge_data.npz')\n",
    "\n",
    "from DSS_analyzer_Mariner import Data1D_PumpingCurve\n",
    "stage4_pumping_curve_dataframe = Data1D_PumpingCurve.Data1D_PumpingCurve('testdata/pumping_curve_stage4.npz')\n",
    "stage5_pumping_curve_dataframe = Data1D_PumpingCurve.Data1D_PumpingCurve('testdata/pumping_curve_stage5.npz')"
   ],
   "id": "4a242c6874ec4466",
   "outputs": [],
   "execution_count": 11
  },
  {
   "metadata": {
    "ExecuteTime": {
     "end_time": "2025-01-18T04:52:13.079463Z",
     "start_time": "2025-01-18T04:52:13.071007Z"
    }
   },
   "cell_type": "code",
   "source": [
    "# Crop the gauge data into three parts\n",
    "start_time_stg4 = stage4_pumping_curve_dataframe.get_start_time()\n",
    "end_time_stg4 = stage4_pumping_curve_dataframe.get_end_time()\n",
    "\n",
    "start_time_stg5 = stage5_pumping_curve_dataframe.get_start_time()\n",
    "end_time_stg5 = stage5_pumping_curve_dataframe.get_end_time()"
   ],
   "id": "a7b8c59441ddffe0",
   "outputs": [],
   "execution_count": 12
  },
  {
   "metadata": {
    "ExecuteTime": {
     "end_time": "2025-01-18T04:52:14.964437Z",
     "start_time": "2025-01-18T04:52:13.099593Z"
    }
   },
   "cell_type": "code",
   "source": [
    "stg4_pg_dataframe = test_gauge_dataframe.copy()\n",
    "stg4_pg_dataframe.crop(start_time_stg4, end_time_stg4)"
   ],
   "id": "f8f05ec24d9821f0",
   "outputs": [],
   "execution_count": 13
  },
  {
   "metadata": {
    "ExecuteTime": {
     "end_time": "2025-01-18T04:52:16.955190Z",
     "start_time": "2025-01-18T04:52:14.967251Z"
    }
   },
   "cell_type": "code",
   "source": [
    "interval_pg_dataframe = test_gauge_dataframe.copy()\n",
    "interval_pg_dataframe.crop(end_time_stg4, start_time_stg5)"
   ],
   "id": "1181b1be6670db02",
   "outputs": [],
   "execution_count": 14
  },
  {
   "metadata": {
    "ExecuteTime": {
     "end_time": "2025-01-18T04:52:18.849205Z",
     "start_time": "2025-01-18T04:52:16.964333Z"
    }
   },
   "cell_type": "code",
   "source": [
    "stg5_pg_dataframe = test_gauge_dataframe.copy()\n",
    "stg5_pg_dataframe.crop(start_time_stg5, end_time_stg5)"
   ],
   "id": "3eedf0e501cd00f",
   "outputs": [],
   "execution_count": 15
  },
  {
   "metadata": {},
   "cell_type": "code",
   "outputs": [],
   "execution_count": null,
   "source": "",
   "id": "53e58feeb8ad07a9"
  }
 ],
 "metadata": {
  "kernelspec": {
   "display_name": "Python 3",
   "language": "python",
   "name": "python3"
  },
  "language_info": {
   "codemirror_mode": {
    "name": "ipython",
    "version": 2
   },
   "file_extension": ".py",
   "mimetype": "text/x-python",
   "name": "python",
   "nbconvert_exporter": "python",
   "pygments_lexer": "ipython2",
   "version": "2.7.6"
  }
 },
 "nbformat": 4,
 "nbformat_minor": 5
}
