{
 "cells": [
  {
   "metadata": {},
   "cell_type": "markdown",
   "source": "Test the heterogenous grid implementation.",
   "id": "9571e2ed7c281e68"
  },
  {
   "metadata": {
    "ExecuteTime": {
     "end_time": "2025-01-29T16:50:14.476907Z",
     "start_time": "2025-01-29T16:50:14.474750Z"
    }
   },
   "cell_type": "code",
   "source": [
    "# %load_ext autoreload\n",
    "# %autoreload 2"
   ],
   "id": "c63c883e81b408b3",
   "outputs": [],
   "execution_count": 1
  },
  {
   "cell_type": "code",
   "id": "initial_id",
   "metadata": {
    "collapsed": true,
    "ExecuteTime": {
     "end_time": "2025-01-29T16:50:15.638328Z",
     "start_time": "2025-01-29T16:50:14.918120Z"
    }
   },
   "source": [
    "from core import pds, mesh_utils\n",
    "import numpy as np\n",
    "from datetime import timedelta"
   ],
   "outputs": [],
   "execution_count": 2
  },
  {
   "metadata": {
    "ExecuteTime": {
     "end_time": "2025-01-29T16:50:16.081342Z",
     "start_time": "2025-01-29T16:50:16.079130Z"
    }
   },
   "cell_type": "code",
   "source": [
    "# pds frame definition\n",
    "pds1d_frame = pds.PDS1D_SingleSource()"
   ],
   "id": "fbf1d292e2eaca52",
   "outputs": [],
   "execution_count": 3
  },
  {
   "metadata": {
    "ExecuteTime": {
     "end_time": "2025-01-29T16:50:16.379681Z",
     "start_time": "2025-01-29T16:50:16.376543Z"
    }
   },
   "cell_type": "code",
   "source": [
    "# setup mesh\n",
    "nx = 100\n",
    "dx = 1\n",
    "x = np.arange(0, nx * dx, dx)"
   ],
   "id": "aa24d90e1cf62836",
   "outputs": [],
   "execution_count": 4
  },
  {
   "metadata": {
    "ExecuteTime": {
     "end_time": "2025-01-29T16:50:16.831520Z",
     "start_time": "2025-01-29T16:50:16.828480Z"
    }
   },
   "cell_type": "code",
   "source": [
    "# refine the mesh\n",
    "x = mesh_utils.refine_mesh(x, [49, 51], 10)\n",
    "# update the number of nodes\n",
    "nx = len(x)"
   ],
   "id": "b662530e427ae925",
   "outputs": [],
   "execution_count": 5
  },
  {
   "metadata": {
    "ExecuteTime": {
     "end_time": "2025-01-29T16:50:16.865510Z",
     "start_time": "2025-01-29T16:50:16.862257Z"
    }
   },
   "cell_type": "code",
   "source": [
    "d = 2\n",
    "u_init = np.zeros(nx)\n",
    "t0 = 0\n",
    "lbc = 'Neumann'\n",
    "rbc = 'Neumann'"
   ],
   "id": "813b1d79fb69dfc9",
   "outputs": [],
   "execution_count": 6
  },
  {
   "metadata": {
    "ExecuteTime": {
     "end_time": "2025-01-29T16:50:18.098958Z",
     "start_time": "2025-01-29T16:50:17.013499Z"
    }
   },
   "cell_type": "code",
   "source": [
    "# Load test data\n",
    "from DSS_analyzer_Mariner import Data1D_GAUGE\n",
    "test_gauge_dataframe = Data1D_GAUGE.Data1D_GAUGE('testdata/pressure_gauge_data.npz')\n",
    "\n",
    "from DSS_analyzer_Mariner import Data1D_PumpingCurve\n",
    "stage4_pumping_curve_dataframe = Data1D_PumpingCurve.Data1D_PumpingCurve('testdata/pumping_curve_stage4.npz')\n",
    "stage5_pumping_curve_dataframe = Data1D_PumpingCurve.Data1D_PumpingCurve('testdata/pumping_curve_stage5.npz')"
   ],
   "id": "a4f28c6f759f399d",
   "outputs": [],
   "execution_count": 7
  },
  {
   "metadata": {
    "ExecuteTime": {
     "end_time": "2025-01-29T16:50:25.023446Z",
     "start_time": "2025-01-29T16:50:18.186142Z"
    }
   },
   "cell_type": "code",
   "source": [
    "# Crop the gauge data into three parts\n",
    "start_time_stg4 = stage4_pumping_curve_dataframe.get_start_time()\n",
    "end_time_stg4 = stage4_pumping_curve_dataframe.get_end_time()\n",
    "\n",
    "start_time_stg5 = stage5_pumping_curve_dataframe.get_start_time()\n",
    "end_time_stg5 = stage5_pumping_curve_dataframe.get_end_time()\n",
    "stg4_pg_dataframe = test_gauge_dataframe.copy()\n",
    "stg4_pg_dataframe.crop(start_time_stg4, end_time_stg4)\n",
    "interval_pg_dataframe = test_gauge_dataframe.copy()\n",
    "interval_pg_dataframe.crop(end_time_stg4, start_time_stg5)\n",
    "stg5_pg_dataframe = test_gauge_dataframe.copy()\n",
    "stg5_pg_dataframe.crop(start_time_stg5, end_time_stg5)"
   ],
   "id": "285e77d108ddbede",
   "outputs": [],
   "execution_count": 8
  },
  {
   "metadata": {
    "ExecuteTime": {
     "end_time": "2025-01-29T16:50:25.038498Z",
     "start_time": "2025-01-29T16:50:25.035076Z"
    }
   },
   "cell_type": "code",
   "source": [
    "# pass the parameters\n",
    "pds1d_frame.set_mesh(x)\n",
    "pds1d_frame.set_diffusivity(d)\n",
    "pds1d_frame.set_bcs(lbc, rbc)\n",
    "pds1d_frame.set_t0(t0)\n",
    "pds1d_frame.set_sourceidx(mesh_utils.locate(x, 50)[0]) # set the source index at the middle of the mesh"
   ],
   "id": "5132cf422c55b77a",
   "outputs": [
    {
     "name": "stdout",
     "output_type": "stream",
     "text": [
      "Diffusivity is a single scalar value, broadcasted to the mesh length.\n"
     ]
    }
   ],
   "execution_count": 9
  },
  {
   "metadata": {
    "ExecuteTime": {
     "end_time": "2025-01-29T16:50:25.079667Z",
     "start_time": "2025-01-29T16:50:25.076127Z"
    }
   },
   "cell_type": "code",
   "source": "mesh_utils.locate(x, 50)",
   "id": "7ef785190eac1fa6",
   "outputs": [
    {
     "data": {
      "text/plain": [
       "(64, 50.0)"
      ]
     },
     "execution_count": 10,
     "metadata": {},
     "output_type": "execute_result"
    }
   ],
   "execution_count": 10
  },
  {
   "metadata": {
    "ExecuteTime": {
     "end_time": "2025-01-29T16:50:25.122155Z",
     "start_time": "2025-01-29T16:50:25.118770Z"
    }
   },
   "cell_type": "code",
   "source": "total_simulation_time = 1000",
   "id": "6ed1ca10adb6855d",
   "outputs": [],
   "execution_count": 11
  },
  {
   "metadata": {
    "ExecuteTime": {
     "end_time": "2025-01-29T16:50:25.179260Z",
     "start_time": "2025-01-29T16:50:25.137324Z"
    }
   },
   "cell_type": "code",
   "source": [
    "# For the test purpose, crop the gauge data\n",
    "test_gauge_dataframe = stg4_pg_dataframe.copy()\n",
    "# decide the time range\n",
    "test_start_time = start_time_stg4 + timedelta(seconds = 200)\n",
    "test_end_time = test_start_time + timedelta(seconds = total_simulation_time)\n",
    "test_gauge_dataframe.crop(test_start_time, test_end_time)"
   ],
   "id": "1fa8b7391094f125",
   "outputs": [],
   "execution_count": 12
  },
  {
   "metadata": {
    "ExecuteTime": {
     "end_time": "2025-01-29T16:50:25.184723Z",
     "start_time": "2025-01-29T16:50:25.182947Z"
    }
   },
   "cell_type": "code",
   "source": [
    "# pass the gauge data\n",
    "pds1d_frame.set_source(test_gauge_dataframe)"
   ],
   "id": "2ad1718a59c62b8",
   "outputs": [],
   "execution_count": 13
  },
  {
   "metadata": {
    "ExecuteTime": {
     "end_time": "2025-01-29T16:50:25.193765Z",
     "start_time": "2025-01-29T16:50:25.191860Z"
    }
   },
   "cell_type": "code",
   "source": [
    "u_init[:] =  test_gauge_dataframe.data[0]\n",
    "pds1d_frame.set_initial(u_init)"
   ],
   "id": "513e42620db836e5",
   "outputs": [],
   "execution_count": 14
  },
  {
   "metadata": {
    "ExecuteTime": {
     "end_time": "2025-01-29T16:50:32.627327Z",
     "start_time": "2025-01-29T16:50:25.215994Z"
    }
   },
   "cell_type": "code",
   "source": "pds1d_frame.solve(optimizer= False, dt = 5, t_total= total_simulation_time, print_progress=False)",
   "id": "27832878a0cdf95f",
   "outputs": [
    {
     "name": "stdout",
     "output_type": "stream",
     "text": [
      "Time array generated using t_total.\n",
      "Problem solved.\n"
     ]
    }
   ],
   "execution_count": 15
  },
  {
   "metadata": {
    "ExecuteTime": {
     "end_time": "2025-01-29T16:50:32.765344Z",
     "start_time": "2025-01-29T16:50:32.635203Z"
    }
   },
   "cell_type": "code",
   "source": "pds1d_frame.plot_solution(method='pcolormesh')",
   "id": "b8fb22fc9ccc168a",
   "outputs": [
    {
     "data": {
      "text/plain": [
       "<Figure size 640x480 with 2 Axes>"
      ],
      "image/png": "[encoded data removed]"
     },
     "metadata": {},
     "output_type": "display_data"
    }
   ],
   "execution_count": 16
  },
  {
   "metadata": {
    "ExecuteTime": {
     "end_time": "2025-01-29T16:50:48.339697Z",
     "start_time": "2025-01-29T16:50:36.455005Z"
    }
   },
   "cell_type": "code",
   "source": [
    "# Next step, make other grid inhomogeneous and test the solver.\n",
    "import matplotlib.pyplot as plt\n",
    "# %load_ext autoreload\n",
    "# %autoreload 2\n",
    "from core import pds\n",
    "import numpy as np\n",
    "from datetime import timedelta\n",
    "\n",
    "# pds frame definition\n",
    "pds1d_frame = pds.PDS1D_SingleSource()\n",
    "# setup mesh\n",
    "nx = 100\n",
    "dx = 1\n",
    "x = np.arange(0, nx * dx, dx)\n",
    "x = mesh_utils.refine_mesh(x, [63, 64], 3)\n",
    "nx = len(x)\n",
    "\n",
    "d = 2\n",
    "u_init = np.zeros(nx)\n",
    "t0 = 0\n",
    "lbc = 'Neumann'\n",
    "rbc = 'Neumann'\n",
    "# pass the parameters\n",
    "pds1d_frame.set_mesh(x)\n",
    "pds1d_frame.set_diffusivity(d)\n",
    "pds1d_frame.set_bcs(lbc, rbc)\n",
    "pds1d_frame.set_t0(t0)\n",
    "pds1d_frame.set_sourceidx(mesh_utils.locate(x, 50)[0])\n",
    "total_simulation_time = 1000\n",
    "# For the test purpose, crop the gauge data\n",
    "test_gauge_dataframe = stg4_pg_dataframe.copy()\n",
    "# decide the time range\n",
    "test_start_time = start_time_stg4 + timedelta(seconds=200)\n",
    "test_end_time = test_start_time + timedelta(seconds=total_simulation_time)\n",
    "test_gauge_dataframe.crop(test_start_time, test_end_time)\n",
    "# pass the gauge data\n",
    "pds1d_frame.set_source(test_gauge_dataframe)\n",
    "u_init[:] = test_gauge_dataframe.data[0]\n",
    "pds1d_frame.set_initial(u_init)\n",
    "# Test snapshot\n",
    "pds1d_frame.solve(optimizer=False, dt=5, t_total=total_simulation_time, print_progress=False)"
   ],
   "id": "3abe4998f73fd04f",
   "outputs": [
    {
     "name": "stdout",
     "output_type": "stream",
     "text": [
      "Diffusivity is a single scalar value, broadcasted to the mesh length.\n",
      "Time array generated using t_total.\n",
      "Problem solved.\n"
     ]
    }
   ],
   "execution_count": 17
  },
  {
   "metadata": {
    "ExecuteTime": {
     "end_time": "2025-01-29T16:50:53.476947Z",
     "start_time": "2025-01-29T16:50:53.393954Z"
    }
   },
   "cell_type": "code",
   "source": "pds1d_frame.plot_solution(method='pcolormesh')",
   "id": "b9713406540de6f3",
   "outputs": [
    {
     "data": {
      "text/plain": [
       "<Figure size 640x480 with 2 Axes>"
      ],
      "image/png": "[encoded data removed]"
     },
     "metadata": {},
     "output_type": "display_data"
    }
   ],
   "execution_count": 21
  }
 ],
 "metadata": {
  "kernelspec": {
   "display_name": "Python 3",
   "language": "python",
   "name": "python3"
  },
  "language_info": {
   "codemirror_mode": {
    "name": "ipython",
    "version": 2
   },
   "file_extension": ".py",
   "mimetype": "text/x-python",
   "name": "python",
   "nbconvert_exporter": "python",
   "pygments_lexer": "ipython2",
   "version": "2.7.6"
  }
 },
 "nbformat": 4,
 "nbformat_minor": 5
}
