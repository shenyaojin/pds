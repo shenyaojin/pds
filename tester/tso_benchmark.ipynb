{
 "cells": [
  {
   "cell_type": "code",
   "id": "initial_id",
   "metadata": {
    "collapsed": true,
    "ExecuteTime": {
     "end_time": "2025-01-19T02:07:26.787198Z",
     "start_time": "2025-01-19T02:07:26.777165Z"
    }
   },
   "source": [
    "%load_ext autoreload\n",
    "%autoreload 2"
   ],
   "outputs": [],
   "execution_count": 1
  },
  {
   "metadata": {
    "ExecuteTime": {
     "end_time": "2025-01-19T02:07:27.543772Z",
     "start_time": "2025-01-19T02:07:26.805948Z"
    }
   },
   "cell_type": "code",
   "source": [
    "from core import pds as pds\n",
    "import numpy as np\n",
    "from datetime import timedelta"
   ],
   "id": "d33c497d68050d7c",
   "outputs": [],
   "execution_count": 2
  },
  {
   "metadata": {
    "ExecuteTime": {
     "end_time": "2025-01-19T02:07:27.822892Z",
     "start_time": "2025-01-19T02:07:27.572897Z"
    }
   },
   "cell_type": "code",
   "source": [
    "# pds frame definition\n",
    "psd1d_frame = pds.PDS1D_SingleSource()"
   ],
   "id": "537ff3ef0843fd8",
   "outputs": [],
   "execution_count": 3
  },
  {
   "metadata": {
    "ExecuteTime": {
     "end_time": "2025-01-19T02:07:28.002575Z",
     "start_time": "2025-01-19T02:07:27.992808Z"
    }
   },
   "cell_type": "code",
   "source": [
    "# setup mesh\n",
    "nx = 100\n",
    "dx = 1\n",
    "x = np.arange(0, nx * dx, dx)\n",
    "\n",
    "d = 100\n",
    "u_init = np.zeros(nx)\n",
    "t0 = 0\n",
    "lbc = 'Neumann'\n",
    "rbc = 'Neumann'"
   ],
   "id": "b1eb3ab8697ad121",
   "outputs": [],
   "execution_count": 4
  },
  {
   "metadata": {
    "ExecuteTime": {
     "end_time": "2025-01-19T02:07:28.987083Z",
     "start_time": "2025-01-19T02:07:28.022663Z"
    }
   },
   "cell_type": "code",
   "source": [
    "# Load test data\n",
    "from DSS_analyzer_Mariner import Data1D_GAUGE\n",
    "test_gauge_dataframe = Data1D_GAUGE.Data1D_GAUGE('testdata/pressure_gauge_data.npz')\n",
    "\n",
    "from DSS_analyzer_Mariner import Data1D_PumpingCurve\n",
    "stage4_pumping_curve_dataframe = Data1D_PumpingCurve.Data1D_PumpingCurve('testdata/pumping_curve_stage4.npz')\n",
    "stage5_pumping_curve_dataframe = Data1D_PumpingCurve.Data1D_PumpingCurve('testdata/pumping_curve_stage5.npz')"
   ],
   "id": "a49fd396e568b696",
   "outputs": [],
   "execution_count": 5
  },
  {
   "metadata": {
    "ExecuteTime": {
     "end_time": "2025-01-19T02:07:28.997685Z",
     "start_time": "2025-01-19T02:07:28.989647Z"
    }
   },
   "cell_type": "code",
   "source": [
    "# Crop the gauge data into three parts\n",
    "start_time_stg4 = stage4_pumping_curve_dataframe.get_start_time()\n",
    "end_time_stg4 = stage4_pumping_curve_dataframe.get_end_time()\n",
    "\n",
    "start_time_stg5 = stage5_pumping_curve_dataframe.get_start_time()\n",
    "end_time_stg5 = stage5_pumping_curve_dataframe.get_end_time()"
   ],
   "id": "5b2617eadb63b4f",
   "outputs": [],
   "execution_count": 6
  },
  {
   "metadata": {
    "ExecuteTime": {
     "end_time": "2025-01-19T02:07:34.771059Z",
     "start_time": "2025-01-19T02:07:29.006032Z"
    }
   },
   "cell_type": "code",
   "source": [
    "stg4_pg_dataframe = test_gauge_dataframe.copy()\n",
    "stg4_pg_dataframe.crop(start_time_stg4, end_time_stg4)\n",
    "interval_pg_dataframe = test_gauge_dataframe.copy()\n",
    "interval_pg_dataframe.crop(end_time_stg4, start_time_stg5)\n",
    "stg5_pg_dataframe = test_gauge_dataframe.copy()\n",
    "stg5_pg_dataframe.crop(start_time_stg5, end_time_stg5)\n",
    "# pass the parameters\n",
    "psd1d_frame.set_mesh(x)\n",
    "psd1d_frame.set_diffusivity(d)\n",
    "psd1d_frame.set_initial(u_init)\n",
    "psd1d_frame.set_bcs(lbc, rbc)\n",
    "psd1d_frame.set_t0(t0)\n",
    "psd1d_frame.set_sourceidx(int(len(x) / 2))  # set the source index at the middle of the mesh\n",
    "# For the test purpose, crop the gauge data\n",
    "test_gauge_dataframe = stg4_pg_dataframe.copy()\n",
    "# decide the time range\n",
    "test_start_time = start_time_stg4 + timedelta(seconds=200)\n",
    "test_end_time = test_start_time + timedelta(seconds=200)\n",
    "test_gauge_dataframe.crop(test_start_time, test_end_time)\n",
    "# Pre process the PG data\n",
    "test_gauge_dataframe.data -= np.min(test_gauge_dataframe.data)\n",
    "# pass the gauge data\n",
    "psd1d_frame.set_source(test_gauge_dataframe)"
   ],
   "id": "9779cb672db051ef",
   "outputs": [
    {
     "name": "stdout",
     "output_type": "stream",
     "text": [
      "Diffusivity is a single scalar value, broadcasted to the mesh length.\n",
      "Message from pds: Source set done.\n",
      "Also, just a reminder: please make sure the data is cropped properly.\n"
     ]
    }
   ],
   "execution_count": 7
  },
  {
   "metadata": {},
   "cell_type": "code",
   "outputs": [],
   "execution_count": null,
   "source": "",
   "id": "b9a7dfe7f225adf4"
  }
 ],
 "metadata": {
  "kernelspec": {
   "display_name": "Python 3",
   "language": "python",
   "name": "python3"
  },
  "language_info": {
   "codemirror_mode": {
    "name": "ipython",
    "version": 2
   },
   "file_extension": ".py",
   "mimetype": "text/x-python",
   "name": "python",
   "nbconvert_exporter": "python",
   "pygments_lexer": "ipython2",
   "version": "2.7.6"
  }
 },
 "nbformat": 4,
 "nbformat_minor": 5
}
