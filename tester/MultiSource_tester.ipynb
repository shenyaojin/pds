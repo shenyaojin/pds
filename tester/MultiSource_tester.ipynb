{
 "cells": [
  {
   "metadata": {},
   "cell_type": "markdown",
   "source": "Tester for multiple sources",
   "id": "73bdd4bd92f451a5"
  },
  {
   "metadata": {
    "ExecuteTime": {
     "end_time": "2025-01-29T23:17:19.410724Z",
     "start_time": "2025-01-29T23:17:19.400658Z"
    }
   },
   "cell_type": "code",
   "source": [
    "%load_ext autoreload\n",
    "%autoreload 2"
   ],
   "id": "fc48cc311f5a3a35",
   "outputs": [],
   "execution_count": 3
  },
  {
   "cell_type": "code",
   "id": "initial_id",
   "metadata": {
    "collapsed": true,
    "ExecuteTime": {
     "end_time": "2025-01-29T23:17:20.993277Z",
     "start_time": "2025-01-29T23:17:20.040978Z"
    }
   },
   "source": [
    "from core import pds\n",
    "import numpy as np\n",
    "from datetime import timedelta"
   ],
   "outputs": [],
   "execution_count": 4
  },
  {
   "metadata": {
    "ExecuteTime": {
     "end_time": "2025-01-29T23:17:21.009046Z",
     "start_time": "2025-01-29T23:17:20.997836Z"
    }
   },
   "cell_type": "code",
   "source": [
    "# pds frame definition\n",
    "pds1d_frame = pds.PDS1D_MultiSource()"
   ],
   "id": "8e9e42df410779cb",
   "outputs": [],
   "execution_count": 5
  },
  {
   "metadata": {
    "ExecuteTime": {
     "end_time": "2025-01-29T23:17:21.459719Z",
     "start_time": "2025-01-29T23:17:21.444711Z"
    }
   },
   "cell_type": "code",
   "source": [
    "# setup mesh\n",
    "nx = 100\n",
    "dx = 1\n",
    "x = np.arange(0, nx * dx, dx)\n",
    "\n",
    "d = 2\n",
    "u_init = np.zeros(nx)\n",
    "t0 = 0\n",
    "lbc = 'Neumann'\n",
    "rbc = 'Neumann'"
   ],
   "id": "3ec01eac1271b1bc",
   "outputs": [],
   "execution_count": 6
  },
  {
   "metadata": {
    "ExecuteTime": {
     "end_time": "2025-01-29T23:17:22.760972Z",
     "start_time": "2025-01-29T23:17:21.627545Z"
    }
   },
   "cell_type": "code",
   "source": [
    "# Load test data\n",
    "from DSS_analyzer_Mariner import Data1D_GAUGE\n",
    "test_gauge_dataframe = Data1D_GAUGE.Data1D_GAUGE('testdata/pressure_gauge_data.npz')\n",
    "\n",
    "from DSS_analyzer_Mariner import Data1D_PumpingCurve\n",
    "stage4_pumping_curve_dataframe = Data1D_PumpingCurve.Data1D_PumpingCurve('testdata/pumping_curve_stage4.npz')\n",
    "stage5_pumping_curve_dataframe = Data1D_PumpingCurve.Data1D_PumpingCurve('testdata/pumping_curve_stage5.npz')"
   ],
   "id": "1d71c592ac39e0e5",
   "outputs": [],
   "execution_count": 7
  },
  {
   "metadata": {
    "ExecuteTime": {
     "end_time": "2025-01-29T23:17:22.913156Z",
     "start_time": "2025-01-29T23:17:22.898089Z"
    }
   },
   "cell_type": "code",
   "source": [
    "# Crop the gauge data into three parts\n",
    "start_time_stg4 = stage4_pumping_curve_dataframe.get_start_time()\n",
    "end_time_stg4 = stage4_pumping_curve_dataframe.get_end_time()\n",
    "\n",
    "start_time_stg5 = stage5_pumping_curve_dataframe.get_start_time()\n",
    "end_time_stg5 = stage5_pumping_curve_dataframe.get_end_time()"
   ],
   "id": "c350dd8bd369921a",
   "outputs": [],
   "execution_count": 8
  },
  {
   "metadata": {
    "ExecuteTime": {
     "end_time": "2025-01-29T23:17:25.426737Z",
     "start_time": "2025-01-29T23:17:22.947811Z"
    }
   },
   "cell_type": "code",
   "source": [
    "stg4_pg_dataframe = test_gauge_dataframe.copy()\n",
    "stg4_pg_dataframe.crop(start_time_stg4, end_time_stg4)"
   ],
   "id": "c23bfb62b338d891",
   "outputs": [],
   "execution_count": 9
  },
  {
   "metadata": {
    "ExecuteTime": {
     "end_time": "2025-01-29T23:17:27.854332Z",
     "start_time": "2025-01-29T23:17:25.432944Z"
    }
   },
   "cell_type": "code",
   "source": [
    "interval_pg_dataframe = test_gauge_dataframe.copy()\n",
    "interval_pg_dataframe.crop(end_time_stg4, start_time_stg5)"
   ],
   "id": "3fe751fa1a61a63a",
   "outputs": [],
   "execution_count": 10
  },
  {
   "metadata": {
    "ExecuteTime": {
     "end_time": "2025-01-29T23:17:30.184760Z",
     "start_time": "2025-01-29T23:17:27.865659Z"
    }
   },
   "cell_type": "code",
   "source": [
    "stg5_pg_dataframe = test_gauge_dataframe.copy()\n",
    "stg5_pg_dataframe.crop(start_time_stg5, end_time_stg5)"
   ],
   "id": "1d287f5d5e63827e",
   "outputs": [],
   "execution_count": 11
  },
  {
   "metadata": {
    "ExecuteTime": {
     "end_time": "2025-01-29T23:17:30.214007Z",
     "start_time": "2025-01-29T23:17:30.195343Z"
    }
   },
   "cell_type": "code",
   "source": [
    "# pass the parameters\n",
    "pds1d_frame.set_mesh(x)\n",
    "pds1d_frame.set_diffusivity(d)\n",
    "pds1d_frame.set_bcs(lbc, rbc)\n",
    "pds1d_frame.set_t0(t0)"
   ],
   "id": "4c2e51164d93815e",
   "outputs": [
    {
     "name": "stdout",
     "output_type": "stream",
     "text": [
      "Diffusivity is a single scalar value, broadcasted to the mesh length.\n"
     ]
    }
   ],
   "execution_count": 12
  },
  {
   "metadata": {
    "ExecuteTime": {
     "end_time": "2025-01-29T23:17:30.254603Z",
     "start_time": "2025-01-29T23:17:30.240618Z"
    }
   },
   "cell_type": "code",
   "source": [
    "# Set the source index. This time we have 3 sources. This time will not use finner mesh.\n",
    "from core import mesh_utils\n",
    "\n",
    "source_idx_1, x_val = mesh_utils.locate(x, 45)\n",
    "source_idx_2, x_val = mesh_utils.locate(x, 55)\n",
    "source_idx_3, x_val = mesh_utils.locate(x, 65)"
   ],
   "id": "cf16ec7cf7200eb9",
   "outputs": [],
   "execution_count": 13
  },
  {
   "metadata": {
    "ExecuteTime": {
     "end_time": "2025-01-29T23:17:30.287364Z",
     "start_time": "2025-01-29T23:17:30.276378Z"
    }
   },
   "cell_type": "code",
   "source": [
    "# pass the parameters to pds1d_frame\n",
    "pds1d_frame.set_sourceidx([source_idx_1, source_idx_2, source_idx_3])"
   ],
   "id": "71b524f490c320d3",
   "outputs": [],
   "execution_count": 14
  },
  {
   "metadata": {
    "ExecuteTime": {
     "end_time": "2025-01-29T23:17:30.328404Z",
     "start_time": "2025-01-29T23:17:30.313534Z"
    }
   },
   "cell_type": "code",
   "source": "pds1d_frame.print()",
   "id": "3a940ba331b2a07f",
   "outputs": [
    {
     "name": "stdout",
     "output_type": "stream",
     "text": [
      "=========================================\n",
      "         PDS1D_SingleSource Info         \n",
      "=========================================\n",
      "           mesh: shape=(100,), unique=[ 0  1  2  3  4  5  6  7  8  9 10 11 12 13 14 15 16 17 18 19 20 21 22 23\n",
      " 24 25 26 27 28 29 30 31 32 33 34 35 36 37 38 39 40 41 42 43 44 45 46 47\n",
      " 48 49 50 51 52 53 54 55 56 57 58 59 60 61 62 63 64 65 66 67 68 69 70 71\n",
      " 72 73 74 75 76 77 78 79 80 81 82 83 84 85 86 87 88 89 90 91 92 93 94 95\n",
      " 96 97 98 99]\n",
      "         source: None\n",
      "            lbc: Neumann\n",
      "            rbc: Neumann\n",
      "        initial: None\n",
      "    diffusivity: shape=(100,), unique=[2]\n",
      "             t0: 0\n",
      "          taxis: None\n",
      "      sourceidx: shape=(3,), unique=[45 55 65]\n",
      "       snapshot: None\n",
      "        history: ['Mesh is properly set.', 'Diffusivity is properly set.', 'Boundary conditions are properly set.', 'Initial time set done. \\nThe simulation starts at 0.', 'Source index is properly set.']\n",
      "=========================================\n"
     ]
    }
   ],
   "execution_count": 15
  },
  {
   "metadata": {
    "ExecuteTime": {
     "end_time": "2025-01-29T23:17:30.430009Z",
     "start_time": "2025-01-29T23:17:30.414042Z"
    }
   },
   "cell_type": "code",
   "source": "pds1d_frame.sourceidx.shape",
   "id": "5183f4ecbcfd104",
   "outputs": [
    {
     "data": {
      "text/plain": [
       "(3,)"
      ]
     },
     "execution_count": 16,
     "metadata": {},
     "output_type": "execute_result"
    }
   ],
   "execution_count": 16
  },
  {
   "metadata": {},
   "cell_type": "markdown",
   "source": "TEST -> PASS",
   "id": "1929cc28d55f240c"
  },
  {
   "metadata": {
    "ExecuteTime": {
     "end_time": "2025-01-29T23:17:30.526665Z",
     "start_time": "2025-01-29T23:17:30.512759Z"
    }
   },
   "cell_type": "code",
   "source": [
    "# Set sources, I will use the same source for all the sources\n",
    "total_simulation_time = 1000"
   ],
   "id": "e9306ac8b70418d8",
   "outputs": [],
   "execution_count": 17
  },
  {
   "metadata": {
    "ExecuteTime": {
     "end_time": "2025-01-29T23:17:46.813205Z",
     "start_time": "2025-01-29T23:17:46.722887Z"
    }
   },
   "cell_type": "code",
   "source": [
    "# For the test purpose, crop the gauge data\n",
    "test_gauge_dataframe = stg4_pg_dataframe.copy()\n",
    "# decide the time range\n",
    "test_start_time = start_time_stg4 + timedelta(seconds = 200)\n",
    "test_end_time = test_start_time + timedelta(seconds = total_simulation_time)\n",
    "test_gauge_dataframe.crop(test_start_time, test_end_time)"
   ],
   "id": "cdbeaeb8d7610af",
   "outputs": [],
   "execution_count": 18
  },
  {
   "metadata": {
    "ExecuteTime": {
     "end_time": "2025-01-29T23:18:03.905517Z",
     "start_time": "2025-01-29T23:18:03.877329Z"
    }
   },
   "cell_type": "code",
   "source": "test_source = [test_gauge_dataframe, test_gauge_dataframe, test_gauge_dataframe]",
   "id": "49d78277d981bbbd",
   "outputs": [],
   "execution_count": 19
  },
  {
   "metadata": {
    "ExecuteTime": {
     "end_time": "2025-01-29T23:34:52.458494Z",
     "start_time": "2025-01-29T23:34:52.448832Z"
    }
   },
   "cell_type": "code",
   "source": "pds1d_frame.set_source(test_source)",
   "id": "b4a0ad4a2019bd4c",
   "outputs": [],
   "execution_count": 23
  },
  {
   "metadata": {
    "ExecuteTime": {
     "end_time": "2025-01-29T23:35:04.619126Z",
     "start_time": "2025-01-29T23:35:04.594636Z"
    }
   },
   "cell_type": "code",
   "source": "pds1d_frame.print_log()",
   "id": "46249125f7aa88ef",
   "outputs": [
    {
     "name": "stdout",
     "output_type": "stream",
     "text": [
      "Mesh is properly set.\n",
      "Diffusivity is properly set.\n",
      "Boundary conditions are properly set.\n",
      "Initial time set done. \n",
      "The simulation starts at 0.\n",
      "Source index is properly set.\n",
      "Source term is properly set.\n"
     ]
    }
   ],
   "execution_count": 24
  },
  {
   "metadata": {
    "ExecuteTime": {
     "end_time": "2025-01-29T23:35:16.539439Z",
     "start_time": "2025-01-29T23:35:16.518703Z"
    }
   },
   "cell_type": "code",
   "source": "len(pds1d_frame.source)",
   "id": "6f99a6bb63817583",
   "outputs": [
    {
     "data": {
      "text/plain": [
       "3"
      ]
     },
     "execution_count": 25,
     "metadata": {},
     "output_type": "execute_result"
    }
   ],
   "execution_count": 25
  },
  {
   "metadata": {},
   "cell_type": "markdown",
   "source": "TEST -> PASS",
   "id": "86167bd88101a01b"
  },
  {
   "metadata": {
    "ExecuteTime": {
     "end_time": "2025-01-29T23:35:43.379488Z",
     "start_time": "2025-01-29T23:35:43.326526Z"
    }
   },
   "cell_type": "code",
   "source": [
    "u_init[:] =  test_gauge_dataframe.data[0]\n",
    "pds1d_frame.set_initial(u_init)"
   ],
   "id": "e32ac4c21b1e1271",
   "outputs": [],
   "execution_count": 26
  },
  {
   "metadata": {},
   "cell_type": "markdown",
   "source": "Start the simulation with the initial condition",
   "id": "7126670f3f86edb7"
  },
  {
   "metadata": {},
   "cell_type": "code",
   "outputs": [],
   "execution_count": null,
   "source": "",
   "id": "4e113bc7dfad5935"
  }
 ],
 "metadata": {
  "kernelspec": {
   "display_name": "Python 3",
   "language": "python",
   "name": "python3"
  },
  "language_info": {
   "codemirror_mode": {
    "name": "ipython",
    "version": 2
   },
   "file_extension": ".py",
   "mimetype": "text/x-python",
   "name": "python",
   "nbconvert_exporter": "python",
   "pygments_lexer": "ipython2",
   "version": "2.7.6"
  }
 },
 "nbformat": 4,
 "nbformat_minor": 5
}
