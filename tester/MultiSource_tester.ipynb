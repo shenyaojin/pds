{
 "cells": [
  {
   "metadata": {},
   "cell_type": "markdown",
   "source": "Tester for multiple sources",
   "id": "73bdd4bd92f451a5"
  },
  {
   "metadata": {
    "ExecuteTime": {
     "end_time": "2025-01-30T20:25:11.466951Z",
     "start_time": "2025-01-30T20:25:11.464425Z"
    }
   },
   "cell_type": "code",
   "source": [
    "# %load_ext autoreload\n",
    "# %autoreload 2"
   ],
   "id": "fc48cc311f5a3a35",
   "outputs": [],
   "execution_count": 1
  },
  {
   "cell_type": "code",
   "id": "initial_id",
   "metadata": {
    "collapsed": true,
    "ExecuteTime": {
     "end_time": "2025-01-30T20:34:32.384413Z",
     "start_time": "2025-01-30T20:34:31.475776Z"
    }
   },
   "source": [
    "from core import pds\n",
    "import numpy as np\n",
    "from datetime import timedelta"
   ],
   "outputs": [],
   "execution_count": 1
  },
  {
   "metadata": {
    "ExecuteTime": {
     "end_time": "2025-01-30T20:34:39.175006Z",
     "start_time": "2025-01-30T20:34:39.171590Z"
    }
   },
   "cell_type": "code",
   "source": [
    "# pds frame definition\n",
    "pds1d_frame = pds.PDS1D_MultiSource()"
   ],
   "id": "8e9e42df410779cb",
   "outputs": [],
   "execution_count": 2
  },
  {
   "metadata": {
    "ExecuteTime": {
     "end_time": "2025-01-30T20:34:39.941379Z",
     "start_time": "2025-01-30T20:34:39.938632Z"
    }
   },
   "cell_type": "code",
   "source": [
    "# setup mesh\n",
    "nx = 100\n",
    "dx = 1\n",
    "x = np.arange(0, nx * dx, dx)\n",
    "\n",
    "d = 2\n",
    "u_init = np.zeros(nx)\n",
    "t0 = 0\n",
    "lbc = 'Neumann'\n",
    "rbc = 'Neumann'"
   ],
   "id": "3ec01eac1271b1bc",
   "outputs": [],
   "execution_count": 3
  },
  {
   "metadata": {
    "ExecuteTime": {
     "end_time": "2025-01-30T20:34:41.102758Z",
     "start_time": "2025-01-30T20:34:39.955229Z"
    }
   },
   "cell_type": "code",
   "source": [
    "# Load test data\n",
    "from DSS_analyzer_Mariner import Data1D_GAUGE\n",
    "test_gauge_dataframe = Data1D_GAUGE.Data1D_GAUGE('testdata/pressure_gauge_data.npz')\n",
    "\n",
    "from DSS_analyzer_Mariner import Data1D_PumpingCurve\n",
    "stage4_pumping_curve_dataframe = Data1D_PumpingCurve.Data1D_PumpingCurve('testdata/pumping_curve_stage4.npz')\n",
    "stage5_pumping_curve_dataframe = Data1D_PumpingCurve.Data1D_PumpingCurve('testdata/pumping_curve_stage5.npz')"
   ],
   "id": "1d71c592ac39e0e5",
   "outputs": [],
   "execution_count": 4
  },
  {
   "metadata": {
    "ExecuteTime": {
     "end_time": "2025-01-30T20:34:41.127447Z",
     "start_time": "2025-01-30T20:34:41.120643Z"
    }
   },
   "cell_type": "code",
   "source": [
    "# Crop the gauge data into three parts\n",
    "start_time_stg4 = stage4_pumping_curve_dataframe.get_start_time()\n",
    "end_time_stg4 = stage4_pumping_curve_dataframe.get_end_time()\n",
    "\n",
    "start_time_stg5 = stage5_pumping_curve_dataframe.get_start_time()\n",
    "end_time_stg5 = stage5_pumping_curve_dataframe.get_end_time()"
   ],
   "id": "c350dd8bd369921a",
   "outputs": [],
   "execution_count": 5
  },
  {
   "metadata": {
    "ExecuteTime": {
     "end_time": "2025-01-30T20:34:43.447684Z",
     "start_time": "2025-01-30T20:34:41.134302Z"
    }
   },
   "cell_type": "code",
   "source": [
    "stg4_pg_dataframe = test_gauge_dataframe.copy()\n",
    "stg4_pg_dataframe.crop(start_time_stg4, end_time_stg4)"
   ],
   "id": "c23bfb62b338d891",
   "outputs": [],
   "execution_count": 6
  },
  {
   "metadata": {
    "ExecuteTime": {
     "end_time": "2025-01-30T20:34:45.890141Z",
     "start_time": "2025-01-30T20:34:43.451689Z"
    }
   },
   "cell_type": "code",
   "source": [
    "interval_pg_dataframe = test_gauge_dataframe.copy()\n",
    "interval_pg_dataframe.crop(end_time_stg4, start_time_stg5)"
   ],
   "id": "3fe751fa1a61a63a",
   "outputs": [],
   "execution_count": 7
  },
  {
   "metadata": {
    "ExecuteTime": {
     "end_time": "2025-01-30T20:34:48.100608Z",
     "start_time": "2025-01-30T20:34:45.895240Z"
    }
   },
   "cell_type": "code",
   "source": [
    "stg5_pg_dataframe = test_gauge_dataframe.copy()\n",
    "stg5_pg_dataframe.crop(start_time_stg5, end_time_stg5)"
   ],
   "id": "1d287f5d5e63827e",
   "outputs": [],
   "execution_count": 8
  },
  {
   "metadata": {
    "ExecuteTime": {
     "end_time": "2025-01-30T20:34:48.111827Z",
     "start_time": "2025-01-30T20:34:48.109173Z"
    }
   },
   "cell_type": "code",
   "source": [
    "# pass the parameters\n",
    "pds1d_frame.set_mesh(x)\n",
    "pds1d_frame.set_diffusivity(d)\n",
    "pds1d_frame.set_bcs(lbc, rbc)\n",
    "pds1d_frame.set_t0(t0)"
   ],
   "id": "4c2e51164d93815e",
   "outputs": [
    {
     "name": "stdout",
     "output_type": "stream",
     "text": [
      "Diffusivity is a single scalar value, broadcasted to the mesh length.\n"
     ]
    }
   ],
   "execution_count": 9
  },
  {
   "metadata": {
    "ExecuteTime": {
     "end_time": "2025-01-30T20:34:48.125250Z",
     "start_time": "2025-01-30T20:34:48.120923Z"
    }
   },
   "cell_type": "code",
   "source": [
    "# Set the source index. This time we have 3 sources. This time will not use finner mesh.\n",
    "from core import mesh_utils\n",
    "\n",
    "source_idx_1, x_val = mesh_utils.locate(x, 45)\n",
    "source_idx_2, x_val = mesh_utils.locate(x, 55)\n",
    "source_idx_3, x_val = mesh_utils.locate(x, 65)"
   ],
   "id": "cf16ec7cf7200eb9",
   "outputs": [],
   "execution_count": 10
  },
  {
   "metadata": {
    "ExecuteTime": {
     "end_time": "2025-01-30T20:34:48.134732Z",
     "start_time": "2025-01-30T20:34:48.132337Z"
    }
   },
   "cell_type": "code",
   "source": [
    "# pass the parameters to pds1d_frame\n",
    "pds1d_frame.set_sourceidx([source_idx_1, source_idx_2, source_idx_3])"
   ],
   "id": "71b524f490c320d3",
   "outputs": [],
   "execution_count": 11
  },
  {
   "metadata": {
    "ExecuteTime": {
     "end_time": "2025-01-30T20:34:48.144137Z",
     "start_time": "2025-01-30T20:34:48.138890Z"
    }
   },
   "cell_type": "code",
   "source": "pds1d_frame.sourceidx.shape",
   "id": "5183f4ecbcfd104",
   "outputs": [
    {
     "data": {
      "text/plain": [
       "(3,)"
      ]
     },
     "execution_count": 12,
     "metadata": {},
     "output_type": "execute_result"
    }
   ],
   "execution_count": 12
  },
  {
   "metadata": {},
   "cell_type": "markdown",
   "source": "TEST -> PASS",
   "id": "1929cc28d55f240c"
  },
  {
   "metadata": {
    "ExecuteTime": {
     "end_time": "2025-01-30T20:34:48.151892Z",
     "start_time": "2025-01-30T20:34:48.149946Z"
    }
   },
   "cell_type": "code",
   "source": [
    "# Set sources, I will use the same source for all the sources\n",
    "total_simulation_time = 1000"
   ],
   "id": "e9306ac8b70418d8",
   "outputs": [],
   "execution_count": 13
  },
  {
   "metadata": {
    "ExecuteTime": {
     "end_time": "2025-01-30T20:34:48.196365Z",
     "start_time": "2025-01-30T20:34:48.160509Z"
    }
   },
   "cell_type": "code",
   "source": [
    "# For the test purpose, crop the gauge data\n",
    "test_gauge_dataframe = stg4_pg_dataframe.copy()\n",
    "# decide the time range\n",
    "test_start_time = start_time_stg4 + timedelta(seconds = 200)\n",
    "test_end_time = test_start_time + timedelta(seconds = total_simulation_time)\n",
    "test_gauge_dataframe.crop(test_start_time, test_end_time)"
   ],
   "id": "cdbeaeb8d7610af",
   "outputs": [],
   "execution_count": 14
  },
  {
   "metadata": {
    "ExecuteTime": {
     "end_time": "2025-01-30T20:34:48.200214Z",
     "start_time": "2025-01-30T20:34:48.198361Z"
    }
   },
   "cell_type": "code",
   "source": "test_source = [test_gauge_dataframe, test_gauge_dataframe, test_gauge_dataframe]",
   "id": "49d78277d981bbbd",
   "outputs": [],
   "execution_count": 15
  },
  {
   "metadata": {
    "ExecuteTime": {
     "end_time": "2025-01-30T20:34:48.203947Z",
     "start_time": "2025-01-30T20:34:48.202172Z"
    }
   },
   "cell_type": "code",
   "source": "pds1d_frame.set_source(test_source)",
   "id": "b4a0ad4a2019bd4c",
   "outputs": [],
   "execution_count": 16
  },
  {
   "metadata": {
    "ExecuteTime": {
     "end_time": "2025-01-30T20:34:48.209104Z",
     "start_time": "2025-01-30T20:34:48.207163Z"
    }
   },
   "cell_type": "code",
   "source": "pds1d_frame.print_log()",
   "id": "46249125f7aa88ef",
   "outputs": [
    {
     "name": "stdout",
     "output_type": "stream",
     "text": [
      "Mesh is properly set.\n",
      "Diffusivity is properly set.\n",
      "Boundary conditions are properly set.\n",
      "Initial time set done. \n",
      "The simulation starts at 0.\n",
      "Source index is properly set.\n",
      "Source term is properly set.\n"
     ]
    }
   ],
   "execution_count": 17
  },
  {
   "metadata": {
    "ExecuteTime": {
     "end_time": "2025-01-30T20:34:48.222199Z",
     "start_time": "2025-01-30T20:34:48.219705Z"
    }
   },
   "cell_type": "code",
   "source": "len(pds1d_frame.source)",
   "id": "6f99a6bb63817583",
   "outputs": [
    {
     "data": {
      "text/plain": [
       "3"
      ]
     },
     "execution_count": 18,
     "metadata": {},
     "output_type": "execute_result"
    }
   ],
   "execution_count": 18
  },
  {
   "metadata": {},
   "cell_type": "markdown",
   "source": "TEST -> PASS",
   "id": "86167bd88101a01b"
  },
  {
   "metadata": {
    "ExecuteTime": {
     "end_time": "2025-01-30T20:34:48.235379Z",
     "start_time": "2025-01-30T20:34:48.233691Z"
    }
   },
   "cell_type": "code",
   "source": [
    "u_init[:] =  test_gauge_dataframe.data[0]\n",
    "pds1d_frame.set_initial(u_init)"
   ],
   "id": "e32ac4c21b1e1271",
   "outputs": [],
   "execution_count": 19
  },
  {
   "metadata": {},
   "cell_type": "markdown",
   "source": "Start the simulation with the initial condition",
   "id": "7126670f3f86edb7"
  },
  {
   "metadata": {
    "ExecuteTime": {
     "end_time": "2025-01-30T20:34:48.245429Z",
     "start_time": "2025-01-30T20:34:48.243623Z"
    }
   },
   "cell_type": "code",
   "source": [
    "# test reset func\n",
    "pds1d_frame.reset()"
   ],
   "id": "328331882de5e7a0",
   "outputs": [],
   "execution_count": 20
  },
  {
   "metadata": {
    "ExecuteTime": {
     "end_time": "2025-01-30T20:34:48.251076Z",
     "start_time": "2025-01-30T20:34:48.248769Z"
    }
   },
   "cell_type": "code",
   "source": "pds1d_frame.print()",
   "id": "83b30222acbfc580",
   "outputs": [
    {
     "name": "stdout",
     "output_type": "stream",
     "text": [
      "=========================================\n",
      "         PDS1D_SingleSource Info         \n",
      "=========================================\n",
      "           mesh: shape=(100,), unique=[ 0  1  2  3  4  5  6  7  8  9 10 11 12 13 14 15 16 17 18 19 20 21 22 23\n",
      " 24 25 26 27 28 29 30 31 32 33 34 35 36 37 38 39 40 41 42 43 44 45 46 47\n",
      " 48 49 50 51 52 53 54 55 56 57 58 59 60 61 62 63 64 65 66 67 68 69 70 71\n",
      " 72 73 74 75 76 77 78 79 80 81 82 83 84 85 86 87 88 89 90 91 92 93 94 95\n",
      " 96 97 98 99]\n",
      "         source: [<DSS_analyzer_Mariner.Data1D_GAUGE.Data1D_GAUGE object at 0x12d645370>, <DSS_analyzer_Mariner.Data1D_GAUGE.Data1D_GAUGE object at 0x12d645370>, <DSS_analyzer_Mariner.Data1D_GAUGE.Data1D_GAUGE object at 0x12d645370>]\n",
      "            lbc: Neumann\n",
      "            rbc: Neumann\n",
      "        initial: shape=(100,), unique=[9339.266]\n",
      "    diffusivity: shape=(100,), unique=[2]\n",
      "             t0: 0\n",
      "          taxis: None\n",
      "      sourceidx: shape=(3,), unique=[45 55 65]\n",
      "       snapshot: None\n",
      "        history: []\n",
      "=========================================\n"
     ]
    }
   ],
   "execution_count": 21
  },
  {
   "metadata": {},
   "cell_type": "markdown",
   "source": "# Core function test",
   "id": "1b19803a90eeeead"
  },
  {
   "metadata": {
    "ExecuteTime": {
     "end_time": "2025-01-30T20:34:58.251178Z",
     "start_time": "2025-01-30T20:34:48.261139Z"
    }
   },
   "cell_type": "code",
   "source": [
    "# Test snapshot\n",
    "pds1d_frame.solve(optimizer= False, dt = 5, t_total= total_simulation_time, print_progress=False)"
   ],
   "id": "4e113bc7dfad5935",
   "outputs": [
    {
     "name": "stdout",
     "output_type": "stream",
     "text": [
      "Time array generated using t_total.\n",
      "Problem solved.\n"
     ]
    }
   ],
   "execution_count": 22
  },
  {
   "metadata": {
    "ExecuteTime": {
     "end_time": "2025-01-30T20:34:58.358382Z",
     "start_time": "2025-01-30T20:34:58.277145Z"
    }
   },
   "cell_type": "code",
   "source": "pds1d_frame.plot_solution(method='imshow')",
   "id": "d976d7811f4f92f9",
   "outputs": [
    {
     "data": {
      "text/plain": [
       "<Figure size 640x480 with 1 Axes>"
      ],
      "image/png": "[encoded data removed]"
     },
     "metadata": {},
     "output_type": "display_data"
    }
   ],
   "execution_count": 23
  },
  {
   "metadata": {},
   "cell_type": "markdown",
   "source": [
    "TEST -> PASS\n",
    "\n",
    "Then, we will test the optimizer"
   ],
   "id": "db491e86bcc51e84"
  },
  {
   "metadata": {},
   "cell_type": "markdown",
   "source": "# Optimizer test",
   "id": "687bce638dd9b3"
  },
  {
   "metadata": {
    "ExecuteTime": {
     "end_time": "2025-01-30T20:34:58.404Z",
     "start_time": "2025-01-30T20:34:58.389686Z"
    }
   },
   "cell_type": "code",
   "source": "pds1d_frame.reset()",
   "id": "e2b777653abafa09",
   "outputs": [],
   "execution_count": 24
  },
  {
   "metadata": {
    "ExecuteTime": {
     "end_time": "2025-01-30T20:34:58.798504Z",
     "start_time": "2025-01-30T20:34:58.415840Z"
    }
   },
   "cell_type": "code",
   "source": [
    "pds1d_frame.solve(optimizer= True, dt_init = 2, t_total= total_simulation_time, print_progress=False,\n",
    "                  max_dt=30, min_dt=1e-4, tol=1e-3, safety_factor=0.9, p=2)"
   ],
   "id": "9500e1e4a726e809",
   "outputs": [
    {
     "name": "stdout",
     "output_type": "stream",
     "text": [
      "Time array generated using t_total.\n",
      "Problem solved.\n"
     ]
    }
   ],
   "execution_count": 25
  },
  {
   "metadata": {
    "ExecuteTime": {
     "end_time": "2025-01-30T20:34:58.850254Z",
     "start_time": "2025-01-30T20:34:58.803448Z"
    }
   },
   "cell_type": "code",
   "source": "pds1d_frame.plot_solution(method='imshow')",
   "id": "132e52d831f51fd2",
   "outputs": [
    {
     "data": {
      "text/plain": [
       "<Figure size 640x480 with 1 Axes>"
      ],
      "image/png": "[encoded data removed]"
     },
     "metadata": {},
     "output_type": "display_data"
    }
   ],
   "execution_count": 26
  },
  {
   "metadata": {},
   "cell_type": "markdown",
   "source": "TEST -> PASS",
   "id": "62aa72ceb55168a7"
  },
  {
   "metadata": {},
   "cell_type": "markdown",
   "source": "# Inhomogeneous gridding strategy test",
   "id": "b8508ee54d729ef4"
  },
  {
   "metadata": {
    "ExecuteTime": {
     "end_time": "2025-01-30T20:36:49.881360Z",
     "start_time": "2025-01-30T20:36:49.869647Z"
    }
   },
   "cell_type": "code",
   "source": "pds1d_frame.reset()",
   "id": "f246025a36308d60",
   "outputs": [],
   "execution_count": 27
  },
  {
   "metadata": {
    "ExecuteTime": {
     "end_time": "2025-01-30T20:37:50.930947Z",
     "start_time": "2025-01-30T20:37:50.924800Z"
    }
   },
   "cell_type": "code",
   "source": [
    "# Update mesh related parameters\n",
    "x = mesh_utils.refine_mesh(x, [70, 80], 10)\n",
    "nx = len(x)"
   ],
   "id": "e58524d0717d03ed",
   "outputs": [],
   "execution_count": 28
  },
  {
   "metadata": {
    "ExecuteTime": {
     "end_time": "2025-01-30T20:38:07.256293Z",
     "start_time": "2025-01-30T20:38:07.253665Z"
    }
   },
   "cell_type": "code",
   "source": [
    "u_init = np.zeros(nx)\n",
    "t0 = 0"
   ],
   "id": "5dc39ff338dd0b7",
   "outputs": [],
   "execution_count": 29
  },
  {
   "metadata": {
    "ExecuteTime": {
     "end_time": "2025-01-30T20:38:20.312718Z",
     "start_time": "2025-01-30T20:38:20.309028Z"
    }
   },
   "cell_type": "code",
   "source": [
    "pds1d_frame.set_mesh(x)\n",
    "pds1d_frame.set_initial(u_init)"
   ],
   "id": "d25f7b058585ee35",
   "outputs": [],
   "execution_count": 30
  },
  {
   "metadata": {
    "ExecuteTime": {
     "end_time": "2025-01-30T20:38:30.632934Z",
     "start_time": "2025-01-30T20:38:30.629056Z"
    }
   },
   "cell_type": "code",
   "source": [
    "# Update the source index\n",
    "source_idx_1, x_val = mesh_utils.locate(x, 45)\n",
    "source_idx_2, x_val = mesh_utils.locate(x, 55)\n",
    "source_idx_3, x_val = mesh_utils.locate(x, 65)"
   ],
   "id": "33456466e303a5e1",
   "outputs": [],
   "execution_count": 31
  },
  {
   "metadata": {
    "ExecuteTime": {
     "end_time": "2025-01-30T20:38:35.707428Z",
     "start_time": "2025-01-30T20:38:35.704665Z"
    }
   },
   "cell_type": "code",
   "source": "pds1d_frame.set_sourceidx([source_idx_1, source_idx_2, source_idx_3])",
   "id": "9cec31ed4edd4ddf",
   "outputs": [],
   "execution_count": 32
  },
  {
   "metadata": {
    "ExecuteTime": {
     "end_time": "2025-01-30T20:38:40.545782Z",
     "start_time": "2025-01-30T20:38:40.543637Z"
    }
   },
   "cell_type": "code",
   "source": "pds1d_frame.print_log()",
   "id": "289269054bf73971",
   "outputs": [
    {
     "name": "stdout",
     "output_type": "stream",
     "text": [
      "Mesh is properly set.\n",
      "Initial condition is properly set.\n",
      "Source index is properly set.\n"
     ]
    }
   ],
   "execution_count": 33
  },
  {
   "metadata": {
    "ExecuteTime": {
     "end_time": "2025-01-30T20:39:06.227382Z",
     "start_time": "2025-01-30T20:39:06.224681Z"
    }
   },
   "cell_type": "code",
   "source": [
    "u_init[:] =  test_gauge_dataframe.data[0]\n",
    "pds1d_frame.set_initial(u_init)"
   ],
   "id": "e1dd5b72ccd50180",
   "outputs": [],
   "execution_count": 34
  },
  {
   "metadata": {
    "ExecuteTime": {
     "end_time": "2025-01-30T20:39:31.865657Z",
     "start_time": "2025-01-30T20:39:31.860876Z"
    }
   },
   "cell_type": "code",
   "source": [
    "# Update the diffusion coefficient\n",
    "d = 2\n",
    "pds1d_frame.set_diffusivity(d)"
   ],
   "id": "41b0fc8e820f0f2a",
   "outputs": [
    {
     "name": "stdout",
     "output_type": "stream",
     "text": [
      "Diffusivity is a single scalar value, broadcasted to the mesh length.\n"
     ]
    }
   ],
   "execution_count": 36
  },
  {
   "metadata": {
    "ExecuteTime": {
     "end_time": "2025-01-30T20:39:43.352917Z",
     "start_time": "2025-01-30T20:39:32.825349Z"
    }
   },
   "cell_type": "code",
   "source": "pds1d_frame.solve(optimizer= False, dt = 5, t_total= total_simulation_time, print_progress=False)",
   "id": "6eb797452a2234e4",
   "outputs": [
    {
     "name": "stdout",
     "output_type": "stream",
     "text": [
      "Time array generated using t_total.\n",
      "Problem solved.\n"
     ]
    }
   ],
   "execution_count": 37
  },
  {
   "metadata": {
    "ExecuteTime": {
     "end_time": "2025-01-30T20:39:58.037144Z",
     "start_time": "2025-01-30T20:39:57.950416Z"
    }
   },
   "cell_type": "code",
   "source": "pds1d_frame.plot_solution(method='pcolormesh')",
   "id": "334a898bf0f92616",
   "outputs": [
    {
     "data": {
      "text/plain": [
       "<Figure size 640x480 with 2 Axes>"
      ],
      "image/png": "[encoded data removed]"
     },
     "metadata": {},
     "output_type": "display_data"
    }
   ],
   "execution_count": 38
  },
  {
   "metadata": {
    "ExecuteTime": {
     "end_time": "2025-01-30T20:40:27.550261Z",
     "start_time": "2025-01-30T20:40:27.545442Z"
    }
   },
   "cell_type": "code",
   "source": [
    "# Test optimizer\n",
    "pds1d_frame.reset()"
   ],
   "id": "ba16af5699b2fd8c",
   "outputs": [],
   "execution_count": 39
  },
  {
   "metadata": {
    "ExecuteTime": {
     "end_time": "2025-01-30T20:40:38.532607Z",
     "start_time": "2025-01-30T20:40:28.205260Z"
    }
   },
   "cell_type": "code",
   "source": [
    "pds1d_frame.solve(optimizer= True, dt_init = 2, t_total= total_simulation_time, print_progress=False,\n",
    "                  max_dt=30, min_dt=1e-4, tol=1e-3, safety_factor=0.9, p=2)"
   ],
   "id": "e2f956fe321aaf75",
   "outputs": [
    {
     "name": "stdout",
     "output_type": "stream",
     "text": [
      "Time array generated using t_total.\n",
      "Problem solved.\n"
     ]
    }
   ],
   "execution_count": 40
  },
  {
   "metadata": {
    "ExecuteTime": {
     "end_time": "2025-01-30T20:40:38.665018Z",
     "start_time": "2025-01-30T20:40:38.559187Z"
    }
   },
   "cell_type": "code",
   "source": "pds1d_frame.plot_solution(method='pcolormesh')",
   "id": "a1635f5fedc03005",
   "outputs": [
    {
     "data": {
      "text/plain": [
       "<Figure size 640x480 with 2 Axes>"
      ],
      "image/png": "[encoded data removed]"
     },
     "metadata": {},
     "output_type": "display_data"
    }
   ],
   "execution_count": 41
  },
  {
   "metadata": {},
   "cell_type": "markdown",
   "source": [
    "TEST -> PASS.\n",
    "All tests passed."
   ],
   "id": "884c1491c5d4fb1b"
  }
 ],
 "metadata": {
  "kernelspec": {
   "display_name": "Python 3",
   "language": "python",
   "name": "python3"
  },
  "language_info": {
   "codemirror_mode": {
    "name": "ipython",
    "version": 2
   },
   "file_extension": ".py",
   "mimetype": "text/x-python",
   "name": "python",
   "nbconvert_exporter": "python",
   "pygments_lexer": "ipython2",
   "version": "2.7.6"
  }
 },
 "nbformat": 4,
 "nbformat_minor": 5
}
